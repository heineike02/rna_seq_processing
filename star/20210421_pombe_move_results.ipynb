{
 "cells": [
  {
   "cell_type": "code",
   "execution_count": 5,
   "metadata": {},
   "outputs": [],
   "source": [
    "import os\n",
    "import shutil\n",
    "\n",
    "base_dir = '/rds/general/user/bheineik/home/'\n",
    "outfilebase = base_dir + 'rna_seq_data/20210315_pombe_ox_bulk/mapped/'\n",
    "\n"
   ]
  },
  {
   "cell_type": "code",
   "execution_count": 9,
   "metadata": {},
   "outputs": [],
   "source": [
    "folders = os.listdir(outfilebase)\n",
    "\n",
    "for folder in folders: \n",
    "    if not(folder in ['all_results', 'archive']):\n",
    "        shutil.copy(outfilebase + folder + '/' + folder + '_Log.final.out', \n",
    "                   outfilebase + 'all_results/' + folder + '_Log.final.out')\n",
    "        shutil.copy(outfilebase + folder + '/' + folder + '_ReadsPerGene.out.tab', \n",
    "                   outfilebase + 'all_results/' + folder + '_ReadsPerGene.out.tab')\n",
    "        \n",
    "        "
   ]
  }
 ],
 "metadata": {
  "kernelspec": {
   "display_name": "Python 3",
   "language": "python",
   "name": "python3"
  },
  "language_info": {
   "codemirror_mode": {
    "name": "ipython",
    "version": 3
   },
   "file_extension": ".py",
   "mimetype": "text/x-python",
   "name": "python",
   "nbconvert_exporter": "python",
   "pygments_lexer": "ipython3",
   "version": "3.6.8"
  }
 },
 "nbformat": 4,
 "nbformat_minor": 2
}
