{
 "cells": [
  {
   "cell_type": "code",
   "execution_count": 1,
   "metadata": {},
   "outputs": [],
   "source": [
    "import os\n",
    "import sys"
   ]
  },
  {
   "cell_type": "code",
   "execution_count": 16,
   "metadata": {},
   "outputs": [],
   "source": [
    "# in a .py file now\n",
    "# #Move files to heslab server\n",
    "\n",
    "# processed_data_dir_gpu = os.path.normpath(\"/home/heineike/rna_seq_data/20181024_KL_SC_PKA_Msn24_Rph1Gis1/dual_index/BMH_HES_02/processed_data/\")\n",
    "# samples = os.listdir(processed_data_dir_gpu)\n",
    "\n",
    "# processed_data_dir_hes = os.path.normpath(\"/data/Scratch/Ben/20181019_kl_sc_msn24_rph1gis1/dual_index/BMH_HES_02/processed_data/\")\n",
    "\n",
    "# for sample in samples: \n",
    "#     sample_spec = sample.split('_')[0]\n",
    "#     sample_no = sample.split('_')[1]\n",
    "#     if (sample_spec=='SC'):\n",
    "#         output_ext = os.sep + sample + os.path.normpath(\"/star_out/B\" + sample_no + \"_S\" + str(int(sample_no)) +\"_L001_R1_001.fastq.gz\") + os.sep\n",
    "#         output_dir_gpu = processed_data_dir_gpu + output_ext\n",
    "#         output_dir_hes = processed_data_dir_hes + output_ext\n",
    "        \n",
    "#         rsync_command = \"rsync -azh \" + output_dir_gpu + \"/read_counts_UTR.txt -e 'ssh -p 40904' heineike@elsamad.ucsf.edu:\" + output_dir_hes\n",
    "          \n",
    "#         os.system(\"\") #'\" + rsync_command + \"'\")"
   ]
  },
  {
   "cell_type": "code",
   "execution_count": 5,
   "metadata": {},
   "outputs": [],
   "source": [
    "#this is in a .py file now\n",
    "# # copy KL bam files to a single directory - could do all of them with a symlink\n",
    "\n",
    "# samples_to_move_no = ['18','19','20','21','23','24','25','26']\n",
    "# samples_to_move = ['KL_' + no for no in samples_to_move_no]\n",
    "\n",
    "# data_dir = os.path.normpath(\"/home/heineike/rna_seq_data/20181024_KL_SC_PKA_Msn24_Rph1Gis1/dual_index/BMH_HES_02/\")\n",
    "\n",
    "# for sample in samples_to_move:\n",
    "#     sample_spec = sample.split('_')[0]\n",
    "#     sample_no = sample.split('_')[1]  \n",
    "    \n",
    "    \n",
    "#     bam_ext = os.sep + \"processed_data\" + os.sep + sample + os.path.normpath(\"/star_out/B\" + sample_no + \"_S\" + str(int(sample_no)) +\"_L001_R1_001.fastq.gz/starAligned.sortedByCoord.out.bam\") \n",
    "#     bam = data_dir + bam_ext\n",
    "#     output_file = data_dir + 'KL_bams/'+sample + '.bam'\n",
    "#     cp_cmd = 'cp ' + bam + ' ' + output_file\n",
    "    \n",
    "#     #print(cp_cmd)\n",
    "#     os.system(cp_cmd)\n",
    "    \n"
   ]
  },
  {
   "cell_type": "code",
   "execution_count": 6,
   "metadata": {},
   "outputs": [],
   "source": [
    "# processed_data_dir = os.path.normpath(\"/home/heineike/rna_seq_data/20181024_KL_SC_PKA_Msn24_Rph1Gis1/dual_index/BMH_HES_02/processed_data/\")\n",
    "# samples = os.listdir(processed_data_dir)\n",
    "# for sample in samples: \n",
    "#     sample_spec = sample.split('_')[0]\n",
    "#     sample_no = sample.split('_')[1]\n",
    "#     if sample_spec=='SC':\n",
    "#         bam_dir = processed_data_dir + os.sep + sample + os.path.normpath(\"/star_out/B\" + sample_no + \"_S\" + str(int(sample_no)) +\"_L001_R1_001.fastq.gz/\") \n"
   ]
  },
  {
   "cell_type": "code",
   "execution_count": null,
   "metadata": {},
   "outputs": [],
   "source": [
    "# in a .py file now\n",
    "# resource_dir = \"~/genomes/scer_20181114/\"\n",
    "# annotation = \"saccharomyces_cerevisiae_R64-2-1_20150113_UTRs.gff\"\n",
    "\n",
    "\n",
    "\n",
    "# bam_dir=~/rna_seq_data/20181024_KL_SC_PKA_Msn24_Rph1Gis1/dual_index/BMH_HES_02/processed_data/SC_01/star_out/B01_S1_L001_R    1_001.fastq.gz/\n",
    "\n",
    "# bam=${bam_dir}starAligned.sortedByCoord.out.bam\n",
    "\n",
    "#htseq-count -t gene -i ID -m intersection-nonempty -s yes -f bam -r pos $bam $resource_dir$annotation > $bam_dir/read_coun    ts_UTR.txt"
   ]
  }
 ],
 "metadata": {
  "kernelspec": {
   "display_name": "Python 3",
   "language": "python",
   "name": "python3"
  },
  "language_info": {
   "codemirror_mode": {
    "name": "ipython",
    "version": 3
   },
   "file_extension": ".py",
   "mimetype": "text/x-python",
   "name": "python",
   "nbconvert_exporter": "python",
   "pygments_lexer": "ipython3",
   "version": "3.7.3"
  }
 },
 "nbformat": 4,
 "nbformat_minor": 2
}
